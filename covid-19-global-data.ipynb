{
 "cells": [
  {
   "cell_type": "markdown",
   "source": [
    "# load the dataset and perform an initial assessment of its quality"
   ],
   "metadata": {
    "collapsed": false
   },
   "id": "5b217644a3355df8"
  },
  {
   "cell_type": "code",
   "execution_count": 1,
   "id": "initial_id",
   "metadata": {
    "collapsed": true,
    "ExecuteTime": {
     "end_time": "2024-02-16T04:37:08.164558400Z",
     "start_time": "2024-02-16T04:37:07.560096700Z"
    }
   },
   "outputs": [
    {
     "name": "stdout",
     "output_type": "stream",
     "text": [
      "<class 'pandas.core.frame.DataFrame'>\n",
      "RangeIndex: 51120 entries, 0 to 51119\n",
      "Data columns (total 8 columns):\n",
      " #   Column             Non-Null Count  Dtype  \n",
      "---  ------             --------------  -----  \n",
      " 0   Date_reported      51120 non-null  object \n",
      " 1   Country_code       50907 non-null  object \n",
      " 2   Country            51120 non-null  object \n",
      " 3   WHO_region         47286 non-null  object \n",
      " 4   New_cases          36698 non-null  float64\n",
      " 5   Cumulative_cases   51120 non-null  int64  \n",
      " 6   New_deaths         24249 non-null  float64\n",
      " 7   Cumulative_deaths  51120 non-null  int64  \n",
      "dtypes: float64(2), int64(2), object(4)\n",
      "memory usage: 3.1+ MB\n"
     ]
    },
    {
     "name": "stderr",
     "output_type": "stream",
     "text": [
      "C:\\Users\\dagbo_b40tnyc\\AppData\\Local\\Temp\\ipykernel_19988\\64822642.py:1: DeprecationWarning: \n",
      "Pyarrow will become a required dependency of pandas in the next major release of pandas (pandas 3.0),\n",
      "(to allow more performant data types, such as the Arrow string type, and better interoperability with other libraries)\n",
      "but was not found to be installed on your system.\n",
      "If this would cause problems for you,\n",
      "please provide us feedback at https://github.com/pandas-dev/pandas/issues/54466\n",
      "        \n",
      "  import pandas as pd\n"
     ]
    },
    {
     "data": {
      "text/plain": "(None,\n   Date_reported Country_code      Country WHO_region  New_cases  \\\n 0    2020-01-05           AF  Afghanistan       EMRO        NaN   \n 1    2020-01-12           AF  Afghanistan       EMRO        NaN   \n 2    2020-01-19           AF  Afghanistan       EMRO        NaN   \n 3    2020-01-26           AF  Afghanistan       EMRO        NaN   \n 4    2020-02-02           AF  Afghanistan       EMRO        NaN   \n \n    Cumulative_cases  New_deaths  Cumulative_deaths  \n 0                 0         NaN                  0  \n 1                 0         NaN                  0  \n 2                 0         NaN                  0  \n 3                 0         NaN                  0  \n 4                 0         NaN                  0  )"
     },
     "execution_count": 1,
     "metadata": {},
     "output_type": "execute_result"
    }
   ],
   "source": [
    "import pandas as pd\n",
    "\n",
    "# Load the dataset\n",
    "file_path = 'WHO-COVID-19-global-data.csv'\n",
    "covid_data = pd.read_csv(file_path)\n",
    "\n",
    "# Display the first few rows of the dataframe and the data types of each column\n",
    "covid_data_info = covid_data.info()\n",
    "covid_data_head = covid_data.head()\n",
    "\n",
    "covid_data_info, covid_data_head\n"
   ]
  },
  {
   "cell_type": "markdown",
   "source": [
    "## Data Preprocessing"
   ],
   "metadata": {
    "collapsed": false
   },
   "id": "c26dfb3d9fdbb163"
  },
  {
   "cell_type": "code",
   "outputs": [
    {
     "data": {
      "text/plain": "                   Percentage Missing Values\nDate_reported                       0.000000\nCountry_code                        0.416667\nCountry                             0.000000\nWHO_region                          7.500000\nNew_cases                          28.212050\nCumulative_cases                    0.000000\nNew_deaths                         52.564554\nCumulative_deaths                   0.000000",
      "text/html": "<div>\n<style scoped>\n    .dataframe tbody tr th:only-of-type {\n        vertical-align: middle;\n    }\n\n    .dataframe tbody tr th {\n        vertical-align: top;\n    }\n\n    .dataframe thead th {\n        text-align: right;\n    }\n</style>\n<table border=\"1\" class=\"dataframe\">\n  <thead>\n    <tr style=\"text-align: right;\">\n      <th></th>\n      <th>Percentage Missing Values</th>\n    </tr>\n  </thead>\n  <tbody>\n    <tr>\n      <th>Date_reported</th>\n      <td>0.000000</td>\n    </tr>\n    <tr>\n      <th>Country_code</th>\n      <td>0.416667</td>\n    </tr>\n    <tr>\n      <th>Country</th>\n      <td>0.000000</td>\n    </tr>\n    <tr>\n      <th>WHO_region</th>\n      <td>7.500000</td>\n    </tr>\n    <tr>\n      <th>New_cases</th>\n      <td>28.212050</td>\n    </tr>\n    <tr>\n      <th>Cumulative_cases</th>\n      <td>0.000000</td>\n    </tr>\n    <tr>\n      <th>New_deaths</th>\n      <td>52.564554</td>\n    </tr>\n    <tr>\n      <th>Cumulative_deaths</th>\n      <td>0.000000</td>\n    </tr>\n  </tbody>\n</table>\n</div>"
     },
     "execution_count": 2,
     "metadata": {},
     "output_type": "execute_result"
    }
   ],
   "source": [
    "# Convert 'Date_reported' to datetime\n",
    "covid_data['Date_reported'] = pd.to_datetime(covid_data['Date_reported'])\n",
    "\n",
    "# Calculate the percentage of missing values for each column\n",
    "missing_values = covid_data.isnull().mean() * 100\n",
    "\n",
    "# Assess missing values more precisely\n",
    "missing_values_summary = missing_values.to_frame(name='Percentage Missing Values')\n",
    "\n",
    "# Show the summary of missing values\n",
    "missing_values_summary\n"
   ],
   "metadata": {
    "collapsed": false,
    "ExecuteTime": {
     "end_time": "2024-02-16T04:39:12.932265700Z",
     "start_time": "2024-02-16T04:39:12.891790100Z"
    }
   },
   "id": "a5f776366bb04feb",
   "execution_count": 2
  },
  {
   "cell_type": "code",
   "outputs": [],
   "source": [],
   "metadata": {
    "collapsed": false
   },
   "id": "c400cde913c73e4a"
  }
 ],
 "metadata": {
  "kernelspec": {
   "display_name": "Python 3",
   "language": "python",
   "name": "python3"
  },
  "language_info": {
   "codemirror_mode": {
    "name": "ipython",
    "version": 2
   },
   "file_extension": ".py",
   "mimetype": "text/x-python",
   "name": "python",
   "nbconvert_exporter": "python",
   "pygments_lexer": "ipython2",
   "version": "2.7.6"
  }
 },
 "nbformat": 4,
 "nbformat_minor": 5
}
